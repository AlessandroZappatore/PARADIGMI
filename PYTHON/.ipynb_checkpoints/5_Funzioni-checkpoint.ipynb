{
 "cells": [
  {
   "cell_type": "markdown",
   "metadata": {},
   "source": [
    "# Funzioni\n",
    "\n",
    "Uno degli aspetti di Python che lo rende adatto per la programmazione funzionale e' che **le funzioni sono oggetti di prima classe**. Possono essere create e usate come qualsiasi altro oggetto. In particolare, possono essere passate come parametri ad altre funzioni e ritornate da funzioni. \n"
   ]
  },
  {
   "cell_type": "markdown",
   "metadata": {
    "slideshow": {
     "slide_type": "slide"
    }
   },
   "source": [
    "## Ragioniamo con le funzioni\n",
    "\n",
    "Il concetto di usare funzioni come parametri e valori di ritorno e' in genere difficile da capire, ma gran parte della flessibilita' ed eleganza del paradigma di programmazione funzionale deriva da fatto che le funzioni sono **first-class objects**, cioe' possono essere usate come gli altri tipi di dato.\n",
    "\n",
    "## Che cos'e' una funzione?\n",
    "Una funziona matematica e' diversa da una funzione in un linguaggio di programmazione (LP), comunque questi concetti sono correlati e quindi conviene ripassare prima cos'e' una funzione matematica.\n",
    "\n",
    "In matematica, una funzione puo' essere vista come una 'macchina' che trasforma un input in un output. Si scrive:\n",
    "```\n",
    "f(x) = y\n",
    "```\n",
    "Si dice \"f di x e' y\", e significa che la funzione `f`, dato l'input `x`, produce il valore `y`. \n",
    "\n",
    "Si deve specificare quali tipi di input accetta e quale tipo di output produce. \n",
    "\n",
    "Per esempio, la funzione 'modulo 3' converte un `int` in un altro `int'.\n",
    "```\n",
    "f(x) = x % 3\n",
    "```\n",
    "La funzione 'quadrato' converte un qualsiasi numero reale in un altro numero reale.\n",
    "```\n",
    "f(x) = x * x\n",
    "```\n",
    "La funzione 'radice quadrata' converte un qualsiasi numero positivo in un altro numero positivo.\n",
    "\n",
    "```\n",
    "f(x) = √x\n",
    "```\n",
    "\n",
    "(Abbiamo fatto qualche semplificazione: ignoriamo i numeri complessi, e il fatto che radice quadrata puo' produrre due valori)\n",
    "\n",
    "\n",
    "Gli esempi sopra sono tutti esempi di funzioni di una variabile. Una funzione puo' avere piu' di una variabile.\n",
    "```\n",
    "f(x1,y1,x2,y2) = (x2-x1)**2 + (y2-y1)**2\n",
    "```\n",
    "\n",
    "## Differenze fra funzioni matematiche e funzioni nei LP\n",
    "\n",
    "### Le funzioni matematiche sono deterministiche\n",
    "Una funzione matematica e' *deterministica*, cioe' dato gli stessi input produce **sempre** lo stesso output.\n",
    "Quindi, una funzione senza parametri deve per forza essere una funzione costante, cioe' ritorna sempre lo stesso valore.\n",
    "\n",
    "Le funzioni nei LP sono un po' diverse. Anch'esse hanno un numero di parametri di input. In alcuni linguaggi non e' obbligatorio che producano un output; si possono chiamare per ottenere effetti collaterali. Non e' detto che siano deterministiche; per esempio se abbiamo aperto un file ogni chiamata a `nextline()` produce un valore diverso ad ogni chiamata.\n",
    "\n",
    "### Le funzioni matematiche non possono riferire a variabili esterne\n",
    "Non sarebbe sensato in matematica scrivere:\n",
    "```\n",
    "f(x,y) = x*2 + y*2 + z*2\n",
    "```\n",
    "Se la funzione `f` dipendesse anche dal valore di `z`, bisognerebbe scrivere:\n",
    "```\n",
    "f(x,y,z) = x*2 + y*2 + z*2\n",
    "```\n",
    "\n",
    "Nella maggiore parte dei LP, si possono riferire variabili non locali. Questo e' uno dei modi in cui una funzione puo' diventare non-deterministica: il risultato puo' cambiare se la variabile non-locale cambia. E' per questo che nel paradigma funzionale si cerca di evitare cio', e si prediligono funzioni **pure** cioe' **funzioni che non riferiscono a variabili globali**.\n",
    "\n",
    "## Differenza fra una funzione, e l'applicazione di una funzione\n",
    "\n",
    "Siamo abituati a pensare alle funzioni come una cosa diversa dai dati; una funzione opera sui dati. Pero', in un linguaggio funzionale, anche le funzioni possono essere dati. Quindi, una funzione puo' essere usata in due modi diversi:\n",
    "\n",
    "1. Puo' essere invocata, cioe' usata come 'macchina' attiva per operare sui dati\n",
    "2. Puo' essere usata in modo passivo come un qualsiasi dato\n",
    "\n",
    "Per non confondersi, bisogna capire quando e' invocata e quando e' usata come dato. In Python, per invocarla, bisogna aggiungere le parentesi e gli argomenti.\n",
    "\n"
   ]
  },
  {
   "cell_type": "code",
   "execution_count": 5,
   "metadata": {
    "scrolled": true
   },
   "outputs": [],
   "source": [
    "def addTwo(x):\n",
    "    return x + 2\n",
    "# Ora addTwo e' una variabile, il cui valore e' una funzione"
   ]
  },
  {
   "cell_type": "markdown",
   "metadata": {},
   "source": [
    "In Python, come nella maggiore parte dei linguaggi, gli argomenti sono valutati prima di valutare il body della funzione\n",
    "\n",
    "Sotto, la variable `addTwo` viene *usata*, il suo valore e' una funzione, che e' l'argomento della funzione `print`"
   ]
  },
  {
   "cell_type": "code",
   "execution_count": 6,
   "metadata": {},
   "outputs": [
    {
     "name": "stdout",
     "output_type": "stream",
     "text": [
      "<function addTwo at 0x000001661B6C8680>\n"
     ]
    }
   ],
   "source": [
    "print(addTwo)"
   ]
  },
  {
   "cell_type": "markdown",
   "metadata": {},
   "source": [
    "Sotto, l'espressione `addTwo(8)` viene *valutata*. Questa e' l'applicazione della funzione `addTwo` al suo argomento `8`. Il risultato e' 10, che e' l'argomento della funzione `print`\n"
   ]
  },
  {
   "cell_type": "code",
   "execution_count": 7,
   "metadata": {},
   "outputs": [
    {
     "name": "stdout",
     "output_type": "stream",
     "text": [
      "10\n"
     ]
    }
   ],
   "source": [
    "print(addTwo(8))"
   ]
  },
  {
   "cell_type": "markdown",
   "metadata": {},
   "source": [
    "## Scriviamo qualche funzione che accetta una funzione come parametro.\n",
    "\n",
    "Scriviamo una funzione `applica` che accetta una funzione di un parametro, e la applica ai numeri 5,6 e 7 e ritorna una lista dei risultati."
   ]
  },
  {
   "cell_type": "code",
   "execution_count": 9,
   "metadata": {},
   "outputs": [
    {
     "name": "stdout",
     "output_type": "stream",
     "text": [
      "[10, 12, 14]\n",
      "[15, 18, 21]\n"
     ]
    }
   ],
   "source": [
    "def applica(fn):\n",
    "    return [fn(5), fn(6), fn(7)]\n",
    "\n",
    "# scriviamo le funzioni 'raddoppia' e 'triplica'\n",
    "def raddoppia(x):\n",
    "    return x * 2\n",
    "\n",
    "def triplica(y):\n",
    "    return y * 3\n",
    "\n",
    "# Chiamiamo la funzione 'applica' con argomento 'raddoppia' e stampiamo il risultato\n",
    "\n",
    "print(applica(raddoppia))\n",
    "\n",
    "# idem per 'triplica'\n",
    "\n",
    "print(applica(triplica))\n",
    "\n"
   ]
  },
  {
   "cell_type": "markdown",
   "metadata": {},
   "source": [
    "Scriviamo una funziona 'applica2' che prende una funziona e un numero, e applica la funzione al numero e poi al risultato."
   ]
  },
  {
   "cell_type": "code",
   "execution_count": 10,
   "metadata": {},
   "outputs": [
    {
     "name": "stdout",
     "output_type": "stream",
     "text": [
      "12\n"
     ]
    }
   ],
   "source": [
    "def applica2(fn, arg):\n",
    "    primaApplicazione = fn(arg)\n",
    "    secondaApplicazione = fn(primaApplicazione)\n",
    "    return secondaApplicazione\n",
    "\n",
    "print(applica2(raddoppia,3))\n"
   ]
  },
  {
   "cell_type": "markdown",
   "metadata": {},
   "source": [
    "Si puo' scrivere `applica2` in modo piu' succinto (senza definire delle variabili intermedie):"
   ]
  },
  {
   "cell_type": "code",
   "execution_count": 11,
   "metadata": {},
   "outputs": [
    {
     "name": "stdout",
     "output_type": "stream",
     "text": [
      "12\n"
     ]
    }
   ],
   "source": [
    "def applica2v2(fn,arg):\n",
    "    return fn(fn(arg))\n",
    "\n",
    "print(applica2v2(raddoppia,3))\n"
   ]
  },
  {
   "cell_type": "markdown",
   "metadata": {},
   "source": [
    "Vedremo che la stessa funzione si puo' scrivere usando la notazione lambda per Python (che in seguito vedremo anche in Java) senza dover definire una funzione con un nome."
   ]
  },
  {
   "cell_type": "markdown",
   "metadata": {},
   "source": [
    "## Scriviamo una funziona che **crea e ritorna una funzione**\n",
    "\n",
    "Abbiamo visto sopra le due funzioni `raddoppia` che moltiplica il suo argomento per 2 e `triplica` che moltiplica il suo argomento per 3. Scriviamo una funzione che prende come argomento un numero `n`, e ritorna una *funzione di un argomento* che moltiplica il suo argomento per `n`:"
   ]
  },
  {
   "cell_type": "code",
   "execution_count": 12,
   "metadata": {},
   "outputs": [
    {
     "name": "stdout",
     "output_type": "stream",
     "text": [
      "<function creaMolt.<locals>.moltiplicatore at 0x000001661B6C9EE0>\n",
      "<function creaMolt.<locals>.moltiplicatore at 0x000001661B6C9080>\n",
      "4 12\n",
      "7 21\n"
     ]
    }
   ],
   "source": [
    "def creaMolt(n):\n",
    "    def moltiplicatore(x):\n",
    "        return x * n\n",
    "    return moltiplicatore\n",
    "\n",
    "per4 = creaMolt(4)\n",
    "print(per4)\n",
    "per7 = creaMolt(7)\n",
    "print(per7)\n",
    "\n",
    "print(per4(1),per4(3))\n",
    "\n",
    "print(per7(1),per7(3))"
   ]
  },
  {
   "cell_type": "markdown",
   "metadata": {},
   "source": [
    "# Lambda notazione\n",
    "\n",
    "Molto spesso, si vuole definire una funzione che usa una volta soltanto, ad esempio come argomento di un'altra funzione. In questi casi non e' necessario definire un nome per la funzione, perche' questa e' usata solo nel punto in cui e' definita. Python (come abbiamo visto anche in Java) offre un'altra sintassi per facilitare la definizione delle funzione che si chiama espressione `lambda`.\n",
    "\n",
    "L'uso del termine `lambda` deriva dal `lambda-calcolo`, una teoria della computazione basata sulla nozione di funzione, il 'lambda calcolo'. In Python come in Java `lambda` e' sempliciamente una sintassi per definire velocemente delle funzioni. La sintassi e' la seguente:\n",
    "\n",
    "```\n",
    "lambda <parametri>: espressione\n",
    "```\n",
    "Cioe', la parola `lambda`, seguita da una lista facoltativa di parametri, seguita da due punti ':', seguiti da un'espressione. Questo ritorna una funzione che ritorna il valore dell'espressione (dopo il `:`) in cui i parametri sono sosituiti dagli argomenti.\n",
    "\n",
    "Infatti, scrivere:\n",
    "```\n",
    "variableName = lambda x: x + 3\n",
    "```\n",
    "\n",
    "e' equivalente a:\n",
    "```\n",
    "def variableName(x)\n",
    "    return x + 3\n",
    "```"
   ]
  },
  {
   "cell_type": "code",
   "execution_count": 13,
   "metadata": {},
   "outputs": [
    {
     "name": "stdout",
     "output_type": "stream",
     "text": [
      "8\n",
      "10\n",
      "2\n"
     ]
    }
   ],
   "source": [
    "# definisco una lambda con zero parametri e' lo assegno al variabile noPar\n",
    "noPar = lambda: 8\n",
    "print(noPar())\n",
    "\n",
    "# definisco una lambda con un parametro\n",
    "add3 = lambda x: x + 3\n",
    "print(add3(7))\n",
    "\n",
    "#definisco una lambda con due parametri\n",
    "modSum = lambda x,y: (x + y) % x\n",
    "print(modSum(3,5))\n"
   ]
  },
  {
   "cell_type": "markdown",
   "metadata": {},
   "source": [
    "Facciamo un esempio di uso di una lambda come argomento di una funzione. \n",
    "\n",
    "Consideriamo il problema di ordinare una lista. Un possibile modo e' usare la funzione `sorted` che ordina una sequenza di elementi.\n"
   ]
  },
  {
   "cell_type": "markdown",
   "metadata": {},
   "source": [
    "Guardiamo la documentazione di `sorted`"
   ]
  },
  {
   "cell_type": "code",
   "execution_count": 14,
   "metadata": {},
   "outputs": [
    {
     "name": "stdout",
     "output_type": "stream",
     "text": [
      "Help on built-in function sorted in module builtins:\n",
      "\n",
      "sorted(iterable, /, *, key=None, reverse=False)\n",
      "    Return a new list containing all items from the iterable in ascending order.\n",
      "    \n",
      "    A custom key function can be supplied to customize the sort order, and the\n",
      "    reverse flag can be set to request the result in descending order.\n",
      "\n"
     ]
    }
   ],
   "source": [
    "help(sorted)"
   ]
  },
  {
   "cell_type": "markdown",
   "metadata": {},
   "source": [
    "I parametri `key` e `reverse` devono essere passati usando la parola chiave (cioe' il nome del parametro) e specificano rispetto a cosa si deve ordinare e se gli elementi devono essere ordinati in modo crescente (il default) o decrescente.\n",
    "\n",
    "La lista che vogliamo ordinare contiene coppie con primo elemento il nome di una persona famosa e secondo la sua eta'. Vogliamo ordinare per eta' in modo decrescente. Per fare questo passiamo come secondo parametro una lambda che prende una tupla e restituisce la sua seconda componente. Poi passiamo anche come terzo parametro (ancora per parola chiave) `True`. "
   ]
  },
  {
   "cell_type": "code",
   "execution_count": 15,
   "metadata": {},
   "outputs": [
    {
     "data": {
      "text/plain": [
       "[('Mila Kunis', 41),\n",
       " ('Mila Kunis', 40),\n",
       " ('Bono', 59),\n",
       " ('Eminem', 47),\n",
       " ('Jack Black', 50),\n",
       " ('Christie Brinkley', 64)]"
      ]
     },
     "execution_count": 15,
     "metadata": {},
     "output_type": "execute_result"
    }
   ],
   "source": [
    "tlist = [('Mila Kunis',41),('Mila Kunis',40),('Bono',59),('Eminem',47),('Jack Black',50),('Christie Brinkley',64)]\n",
    "tlist"
   ]
  },
  {
   "cell_type": "code",
   "execution_count": 16,
   "metadata": {},
   "outputs": [
    {
     "name": "stdout",
     "output_type": "stream",
     "text": [
      "Lista originale\n",
      " [('Mila Kunis', 41), ('Mila Kunis', 40), ('Bono', 59), ('Eminem', 47), ('Jack Black', 50), ('Christie Brinkley', 64)]\n",
      "Lista ordinata\n",
      " [('Bono', 59), ('Christie Brinkley', 64), ('Eminem', 47), ('Jack Black', 50), ('Mila Kunis', 40), ('Mila Kunis', 41)]\n"
     ]
    }
   ],
   "source": [
    "sortedList=sorted(tlist)\n",
    "print(\"Lista originale\\n\",tlist)\n",
    "print(\"Lista ordinata\\n\",sortedList)"
   ]
  },
  {
   "cell_type": "markdown",
   "metadata": {},
   "source": [
    "Esiste anche un metodo `sort` della classe lista che si puo' usare nello stesso modo (ma non ha il primo parametro!). In questo caso la lista a cui si applica viene modificata."
   ]
  },
  {
   "cell_type": "code",
   "execution_count": 17,
   "metadata": {},
   "outputs": [
    {
     "name": "stdout",
     "output_type": "stream",
     "text": [
      "Lista originale\n",
      " [('Mila Kunis', 41), ('Mila Kunis', 40), ('Bono', 59), ('Eminem', 47), ('Jack Black', 50), ('Christie Brinkley', 64)]\n",
      "Lista ordinata\n",
      " [('Bono', 59), ('Christie Brinkley', 64), ('Eminem', 47), ('Jack Black', 50), ('Mila Kunis', 40), ('Mila Kunis', 41)]\n"
     ]
    }
   ],
   "source": [
    "print(\"Lista originale\\n\",tlist)\n",
    "tlist.sort()\n",
    "print(\"Lista ordinata\\n\",tlist)"
   ]
  },
  {
   "cell_type": "markdown",
   "metadata": {},
   "source": [
    "Per il parametro `key` si puo' specificare quale funzione viene applicata agli elementi che ci dice rispetto a cosa ordinare. Ad esempio `key=lambda el: el[1]` ci permette di ordinare rispetto alla seconda componente della tuple."
   ]
  },
  {
   "cell_type": "code",
   "execution_count": 18,
   "metadata": {},
   "outputs": [
    {
     "name": "stdout",
     "output_type": "stream",
     "text": [
      "Lista originale\n",
      " [('Bono', 59), ('Christie Brinkley', 64), ('Eminem', 47), ('Jack Black', 50), ('Mila Kunis', 40), ('Mila Kunis', 41)]\n",
      "Lista ordinata\n",
      " [('Mila Kunis', 40), ('Mila Kunis', 41), ('Eminem', 47), ('Jack Black', 50), ('Bono', 59), ('Christie Brinkley', 64)]\n"
     ]
    }
   ],
   "source": [
    "print(\"Lista originale\\n\",tlist)\n",
    "tlist.sort(key=lambda el: el[1])\n",
    "print(\"Lista ordinata\\n\",tlist)"
   ]
  },
  {
   "cell_type": "markdown",
   "metadata": {},
   "source": [
    "## Lambda come argomenti di funzioni \n",
    "Rivediamo gli esempi che abbiamo appena fatto e invece di definire funzioni passiamo delle lambda"
   ]
  },
  {
   "cell_type": "code",
   "execution_count": 19,
   "metadata": {},
   "outputs": [
    {
     "name": "stdout",
     "output_type": "stream",
     "text": [
      "[1, 2, 3]\n",
      "-2\n"
     ]
    }
   ],
   "source": [
    "def applica(fn):\n",
    "    return [fn(5), fn(6), fn(7)]\n",
    "\n",
    "# se usiamo una lambda non dobbiamo definire la funzione\n",
    "\n",
    "print(applica(lambda x: x - 4))\n",
    "\n",
    "def applica2(fn, arg):\n",
    "    primaApplicazione = fn(arg)\n",
    "    secondaApplicazione = fn(primaApplicazione)\n",
    "    return secondaApplicazione\n",
    "\n",
    "\n",
    "print(applica2(lambda x: x - 3, 4))"
   ]
  },
  {
   "cell_type": "markdown",
   "metadata": {},
   "source": [
    "## Lambda ritornate da funzioni\n",
    "Questo vale anche quando ritorniamo funzioni"
   ]
  },
  {
   "cell_type": "code",
   "execution_count": 20,
   "metadata": {},
   "outputs": [
    {
     "name": "stdout",
     "output_type": "stream",
     "text": [
      "4 12\n",
      "7 21\n",
      "28\n"
     ]
    }
   ],
   "source": [
    "# possiamo resituire direttamente una lambda\n",
    "\n",
    "def creaMolt(n):\n",
    "    return lambda x: x * n\n",
    "\n",
    "per4 = creaMolt(4) \n",
    "per7 = creaMolt(7)\n",
    "\n",
    "print(per4(1),per4(3))\n",
    "print(per7(1),per7(3))\n",
    "print(per7(per4(1)))"
   ]
  },
  {
   "cell_type": "markdown",
   "metadata": {},
   "source": [
    "<H2 style=\"color:red\"> 7. Esercizi su funzioni</H2>\n",
    "\n",
    "Caricate il file ``7_Esercizi_Funzioni.py`` e provate a fare gli esercizi proposti."
   ]
  },
  {
   "cell_type": "markdown",
   "metadata": {},
   "source": [
    "# Esempi di funzioni che ritornano funzioni fra le funzioni Python che abbiamo visto\n",
    "L'esempio sopra di `creaMolt` e' facile da capire e serve per dimostrare come creare e ritornare una funzione da una funzione. Pero' non sembra molto utile. E' una tecnica veramente utile?\n",
    "\n",
    "Basta pensare a tante funzioni che abbiamo usato programmando in Python. Tutte le funzioni come `range`, `enumerate`, `zip`, ecc. creano e ritornano funzioni."
   ]
  },
  {
   "cell_type": "markdown",
   "metadata": {},
   "source": [
    "\n",
    "# Funzioni built-in che accettono funzioni come parametri\n",
    "\n",
    "In aggiunta a `sorted` anche le funzioni `min` e `max` che abbiamo gia' visto, per trovare l'elemento minimo e l'elemento massimo di una sequenza possono avere funzioni come parametri."
   ]
  },
  {
   "cell_type": "code",
   "execution_count": 1,
   "metadata": {},
   "outputs": [
    {
     "name": "stdout",
     "output_type": "stream",
     "text": [
      "mins:\t 1 Mary\n",
      "maxes:\t 6 Peter\n"
     ]
    }
   ],
   "source": [
    "list1 = [3,1,6,4,5,2]\n",
    "list2 = [\"Peter\",\"Paul\",\"Mary\"]\n",
    "print('mins:\\t',min(list1),min(list2))\n",
    "print('maxes:\\t',max(list1),max(list2))"
   ]
  },
  {
   "cell_type": "markdown",
   "metadata": {},
   "source": [
    "Pero' cosa facciamo se gli elementi della lista non sono oggetti semplici? Come esempio la lista di tuple che rappresenta delle celebrita' e le loro eta'. Potremmo voler trovare il max o il min rispetto all'ordinamento dei  nomi, o a quello dell'eta'.\n",
    "\n",
    "Sia `min` che `max` accettano (come `sorted`) un parametro keyword `key` che deve essere una funzione che accetta un parametro e ritorna un valore. Questa funzione viene applicata ad ogni elemento, e il valore ritornato viene usato per calcolare il minimo o massimo.\n",
    "\n",
    "Per l'esempio sopra, possiamo definire due funzioni, `getFirst` che ritorna il primo elemento della tupla, e `getSecond` che ritorna il secondo elemento della tupla. "
   ]
  },
  {
   "cell_type": "code",
   "execution_count": 3,
   "metadata": {},
   "outputs": [
    {
     "name": "stdout",
     "output_type": "stream",
     "text": [
      "('Bono', 59) ('Mila Kunis', 41)\n",
      "('Mila Kunis', 40) ('Christie Brinkley', 64)\n",
      "('Bono', 59) ('Mila Kunis', 41)\n"
     ]
    }
   ],
   "source": [
    "tlist = [('Mila Kunis',41),('Mila Kunis',40),('1Bono',59),('Eminem',47),('Jack Black',50),('Christie Brinkley',64)]\n",
    "\n",
    "def getFirst(tup):\n",
    "    return tup[0]\n",
    "\n",
    "def getSecond(tup):\n",
    "    return tup[1]\n",
    "\n",
    "\n",
    "print(min(tlist,key = getFirst),max(tlist,key = getFirst))\n",
    "print(min(tlist,key = getSecond),max(tlist,key = getSecond))\n",
    "print(min(tlist), max(tlist))\n",
    "\n"
   ]
  },
  {
   "cell_type": "markdown",
   "metadata": {},
   "source": [
    "Anche la funzione `sorted` e il metodo `sort`, come abbiamo visto accettano questo stesso parametro."
   ]
  },
  {
   "cell_type": "markdown",
   "metadata": {},
   "source": [
    "Quando gli oggetti nelle sequenze sono loro stessi sequenze, per loro si considera l'**ordine lessicografico**. Questo vuole dire che si ordina per il primo elemento; se questi sono uguali, si ordina per il secondo; se anche questi sono uguali, si ordina per il terzo, ecc. Questo e' l'ordine che viene usato per le stringhe nei dizionari. "
   ]
  },
  {
   "cell_type": "code",
   "execution_count": null,
   "metadata": {},
   "outputs": [],
   "source": [
    "wordList = [\"contusione\",\"confusione\",\"aaron\",\"aardvark\"]\n",
    "dateList = [(1972,8,9),(1972,11,9),(1492,8,3),(1969,8,15),(1969,7,21),(1969,7,20)]\n",
    "# ordinare parole\n",
    "print(sorted(wordList))\n",
    "# ordinare date nel formatto (anno, mese, giorno)\n",
    "print(sorted(dateList))"
   ]
  },
  {
   "cell_type": "markdown",
   "metadata": {},
   "source": [
    "Come possiamo fare se vogliamo ordinare una lista di date in modo diverso? Diciamo che sono nell'ordine (mese, giorno, anno) e noi le vogliamo ordinare in ordine (anno,mese,giorno). Per fare questo possimo creare una funzione che ritorna una tupla ordinata nel modo che vogliamo:"
   ]
  },
  {
   "cell_type": "code",
   "execution_count": null,
   "metadata": {},
   "outputs": [],
   "source": [
    "mgaList = [(8,9,1972),(11,9,1972),(8,3,1492),(8,15,1969),(7,21,1969),(7,20,1969)]\n",
    "\n",
    "def dateTuple(mgaDate):\n",
    "    return (mgaDate[2],mgaDate[0],mgaDate[1])\n",
    "\n",
    "print(sorted(mgaList, key = dateTuple))\n",
    "print(sorted(mgaList))"
   ]
  },
  {
   "cell_type": "markdown",
   "metadata": {},
   "source": [
    "Negli esempi sopra, le funzioni `key` erano molto semplici e chiamavano un operatore Python. Per facilitare l'utilizzo di questo tipo di funzione, la Standard Library di Python ha un modulo `operator` che ha gia' definite delle funzioni che corrispondono a molti deli operatori di Python.\n",
    "\n",
    "L'operatore che abbiamo usato sopra e' `[]`, l'operatore di indicizzazione. Il modulo fornisce una funzione `itemgetter` che ritorna una funzione per acceddere agli elementi del suo argomento."
   ]
  },
  {
   "cell_type": "code",
   "execution_count": null,
   "metadata": {},
   "outputs": [],
   "source": [
    "import operator\n",
    "getFirstElement = operator.itemgetter(0)\n",
    "getSecondElement = operator.itemgetter(1)\n",
    "print(min(tlist, key = getFirstElement))\n",
    "\n",
    "# cosi', si puo' anche evitare di definire la funzione\n",
    "print(sorted(tlist, key = operator.itemgetter(1)))\n",
    "\n",
    "# Se si forniscono multipli argomenti a itemgetter, questa ritornera' una tupla\n",
    "sorted(mgaList, key = operator.itemgetter(2,0,1))\n"
   ]
  },
  {
   "cell_type": "markdown",
   "metadata": {},
   "source": [
    "<H2 style=\"color:red\"> 8. Esercizi su min max e sorted </H2>\n",
    "\n",
    "Caricate il file ``8_Esercizi_min_max_sort.py`` e provate a fare gli esercizi proposti."
   ]
  }
 ],
 "metadata": {
  "kernelspec": {
   "display_name": "Python 3 (ipykernel)",
   "language": "python",
   "name": "python3"
  },
  "language_info": {
   "codemirror_mode": {
    "name": "ipython",
    "version": 3
   },
   "file_extension": ".py",
   "mimetype": "text/x-python",
   "name": "python",
   "nbconvert_exporter": "python",
   "pygments_lexer": "ipython3",
   "version": "3.11.5"
  }
 },
 "nbformat": 4,
 "nbformat_minor": 2
}
