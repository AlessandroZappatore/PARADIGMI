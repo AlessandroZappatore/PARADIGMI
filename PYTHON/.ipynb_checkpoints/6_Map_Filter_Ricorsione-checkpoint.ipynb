{
 "cells": [
  {
   "cell_type": "markdown",
   "metadata": {},
   "source": [
    "# Stile Funzionale di Programmazione su Sequenze"
   ]
  },
  {
   "cell_type": "markdown",
   "metadata": {},
   "source": [
    "## Reduce\n",
    "La funzione `reduce` implementa un tecnica comunemente chiamata *folding* o *reduction*, che consiste nel produrre da una sequenza un valore comulativo (ad esempio la somma dei suoi elementi!). La funzione `reduce` di Python si applica ad un iterabile eseguendo i seguenti passi:\n",
    "+ applicare una funzione `f` ai primi 2 elementi generando un risultato parziale\n",
    "+ usare quel risultato parziale, insieme con un terzo elemento dell'iterabile per generare un altro risultato parziale\n",
    "+ ripetere il processo finche' l'iterabile non e' esaurito e quindi ritornare il valore finale\n",
    "La funzione `reduce` e' nel modulo `functools`"
   ]
  },
  {
   "cell_type": "code",
   "execution_count": 1,
   "metadata": {
    "scrolled": true
   },
   "outputs": [
    {
     "name": "stdout",
     "output_type": "stream",
     "text": [
      "Help on built-in function reduce in module _functools:\n",
      "\n",
      "reduce(...)\n",
      "    reduce(function, iterable[, initial]) -> value\n",
      "    \n",
      "    Apply a function of two arguments cumulatively to the items of a sequence\n",
      "    or iterable, from left to right, so as to reduce the iterable to a single\n",
      "    value.  For example, reduce(lambda x, y: x+y, [1, 2, 3, 4, 5]) calculates\n",
      "    ((((1+2)+3)+4)+5).  If initial is present, it is placed before the items\n",
      "    of the iterable in the calculation, and serves as a default when the\n",
      "    iterable is empty.\n",
      "\n"
     ]
    }
   ],
   "source": [
    "from functools import reduce\n",
    "help(reduce)"
   ]
  },
  {
   "cell_type": "markdown",
   "metadata": {},
   "source": [
    "La somma degli elementi di una sequenza puo' essere fatto usando `reduce` lo avete visto negli esercizi."
   ]
  },
  {
   "cell_type": "code",
   "execution_count": 3,
   "metadata": {},
   "outputs": [
    {
     "data": {
      "text/plain": [
       "5050"
      ]
     },
     "execution_count": 3,
     "metadata": {},
     "output_type": "execute_result"
    }
   ],
   "source": [
    "import operator\n",
    "reduce(operator.add, range(101))"
   ]
  },
  {
   "cell_type": "markdown",
   "metadata": {},
   "source": [
    "Cosa succede se applichiamo la funzione ad una lista con un solo elemento?"
   ]
  },
  {
   "cell_type": "code",
   "execution_count": 9,
   "metadata": {
    "scrolled": true
   },
   "outputs": [
    {
     "data": {
      "text/plain": [
       "2"
      ]
     },
     "execution_count": 9,
     "metadata": {},
     "output_type": "execute_result"
    }
   ],
   "source": [
    "# # Cosa succede se applichiamo la funzione ad una lista con un solo elemento?\n",
    "\n",
    "reduce(operator.add, [1], 1)\n",
    "\n",
    "# # e ad una lista vuota?\n",
    "\n",
    "#reduce(operator.add, [])"
   ]
  },
  {
   "cell_type": "markdown",
   "metadata": {},
   "source": [
    "Per queso e' importante fornire anche l'input opzionale `initial` che e' usato come primo valore ad dare alla funzione."
   ]
  },
  {
   "cell_type": "code",
   "execution_count": 6,
   "metadata": {
    "scrolled": true
   },
   "outputs": [
    {
     "data": {
      "text/plain": [
       "0"
      ]
     },
     "execution_count": 6,
     "metadata": {},
     "output_type": "execute_result"
    }
   ],
   "source": [
    "reduce(operator.add, [], 0)"
   ]
  },
  {
   "cell_type": "markdown",
   "metadata": {},
   "source": [
    "Comunque sapete che l'operazione precedente e' fatta dalla funzione predefinita di Python `sum` cioe'"
   ]
  },
  {
   "cell_type": "code",
   "execution_count": 7,
   "metadata": {},
   "outputs": [
    {
     "data": {
      "text/plain": [
       "4950"
      ]
     },
     "execution_count": 7,
     "metadata": {},
     "output_type": "execute_result"
    }
   ],
   "source": [
    "sum(range(100))"
   ]
  },
  {
   "cell_type": "markdown",
   "metadata": {},
   "source": [
    "Notate che la funzione `reduce` coincide con la `foldLeft` degli esercizi!!!!"
   ]
  },
  {
   "cell_type": "markdown",
   "metadata": {},
   "source": [
    "## Performance\n",
    "\n",
    "Vogliamo misuarare il tempo di esecuzione delle soluzioni precedenti per la somma degli elementi di un iterabile. Per questo possiamo usare la funzione `timeit()` del modulo `timeit`:\n",
    "\n",
    "`timeit.timeit(stmt='pass', setup='pass', number=1000000, globals=None)`\n",
    "\n",
    "Gli argomenti:\n",
    "+ `stmt` sono le istruzioni di cui volgiamo sapere il tempo di esecuzione\n",
    "+ `setup` sono istrizioni da eseguire prima di `stt`, ad esempio `import` di moduli\n",
    "+ `globals` e' un dizionarion che contiene i nomi definite nell'ambiente che servono per valutare `stmt`\n",
    "Vediamo ora come usarla"
   ]
  },
  {
   "cell_type": "code",
   "execution_count": null,
   "metadata": {},
   "outputs": [],
   "source": [
    "from functools import reduce\n",
    "from timeit import timeit\n",
    "\n",
    "\n",
    "def add(a, b):\n",
    "    return a + b\n",
    "\n",
    "#use_add = \"functools.reduce(add, range(100))\"\n",
    "# print(\"reduce with use_add:\"+str(timeit(use_add, \"import functools\", globals={\"add\": add})))\n",
    "\n",
    "\n",
    "# Using a lambda expression\n",
    "#use_lambda = \"functools.reduce(lambda x, y: x + y, range(100))\"\n",
    "#print(\"reduce with lambda:\"+str(timeit(use_lambda, \"import functools\")))\n",
    "\n",
    "\n",
    "# Using operator.add()\n",
    "#use_operator_add = \"functools.reduce(operator.add, range(100))\"\n",
    "#print(\"reduce with operator.add:\"+str(timeit(use_operator_add, \"import functools, operator\")))\n",
    "\n",
    "\n",
    "# Using sum()\n",
    "print(\"primitive sum:\"+str(timeit(\"sum(range(100))\", globals={\"sum\": sum})))\n"
   ]
  },
  {
   "cell_type": "markdown",
   "metadata": {},
   "source": [
    "## Map e Filter\n",
    "\n",
    "Funzioni che prendono funzioni come parametri, oppure che ritornano funzioni come parametri, si chiamano **funzioni di ordine superiore (higher order functions)**. Abbiamo visto alcune funzioni di ordina superiore, ora introduciamo quelle che sono le funzioni di ordine superiore fondamentali nella manipolazione di iterabili (sequenze).\n",
    "\n",
    "Il paradigma di programmazione funzionale fa frequente uso delle funzioni `map` e `filter`. \n",
    "\n",
    "`map` prende due argomenti: una funzione e un iterabile. Ritorna un iterabile con la funzione applicata ad ogni membro del secondo parametro."
   ]
  },
  {
   "cell_type": "markdown",
   "metadata": {},
   "source": [
    "`filter` prende due argomenti: una funzione e un iterabile. Applica la funzione ad ogni membro dell'iterabile, e ritorna un iterabile contenente solo i valori per cui la funzione ritorna un valore truthy."
   ]
  },
  {
   "cell_type": "code",
   "execution_count": null,
   "metadata": {},
   "outputs": [],
   "source": [
    "\n",
    "\n",
    "list1=(1,2,-3,4,-4,2,4,-23)\n",
    "\n",
    "# # filtriamo list1 ritornando i valori positivi\n",
    "# onlyPos = filter(lambda x: x >= 0,list1)\n",
    "# print(list(onlyPos))\n",
    "# # filtriamo list1 ritornando i valori dispari\n",
    "# onlyOdd = filter(lambda x: x % 2 == 1, list1)\n",
    "# print(list(onlyOdd))\n",
    "\n",
    "# print(list(map(lambda x: x**3,list1)))\n",
    "\n",
    "# # possiamo combinare map e filter\n",
    "# cubiOdd = map(lambda x: x**3, filter(lambda x: x % 2 == 1, list1))\n",
    "# print(list(cubiOdd))"
   ]
  },
  {
   "cell_type": "markdown",
   "metadata": {},
   "source": [
    "## Comprehension e' una sintassi per map e filter\n",
    "Se gli esempi sopra sembrano familiari, e' perche' list comprehension e generator comprehension che abbiamo visto sono essenzialmente una sintassi di comodo per l'applicazione di map e filter. Quindi quando usiamo la comprehension programmiamo gia' in modo funzionale, cioe' applicando trasformazioni/funzioni a dati."
   ]
  },
  {
   "cell_type": "code",
   "execution_count": null,
   "metadata": {},
   "outputs": [],
   "source": [
    "cubiOdd2 = [x**3 for x in list1 if x % 2 == 1]\n",
    "print(list(cubiOdd2))"
   ]
  },
  {
   "cell_type": "markdown",
   "metadata": {},
   "source": [
    "Come traduciamo\n",
    "    ``[ expr  for x in iterable if cond]``\n",
    "con ``map`` e ``filter``?  \n",
    "\n",
    "``list(map(lambda x:expr,filter(lambda x:cond, iterable)))``"
   ]
  },
  {
   "cell_type": "code",
   "execution_count": null,
   "metadata": {},
   "outputs": [],
   "source": [
    "cubiOdd3 = map(lambda x: x**3, filter(lambda x:x % 2 == 1, list1))\n",
    "print(list(cubiOdd3))"
   ]
  },
  {
   "cell_type": "markdown",
   "metadata": {},
   "source": [
    "<H2 style=\"color:red\"> 9. Esercizi su reduce map filter</H2>\n",
    "\n",
    "Caricate il file ``9_Esercizi_reduce_map_filter.py`` e provate a fare gli esercizi proposti."
   ]
  },
  {
   "cell_type": "markdown",
   "metadata": {},
   "source": [
    "## Ricorsione\n",
    "Un'altra tecnica molto diffusa nel paradigma di programmazione funzionale e' la ricorsione, cioe' una funzione che chiama se stessa (o direttamente o indirattemente). Un esempio classico e' la funzione fattoriale."
   ]
  },
  {
   "cell_type": "code",
   "execution_count": null,
   "metadata": {},
   "outputs": [],
   "source": [
    "def fatt(n):\n",
    "    if (n <= 0): return 1\n",
    "    return n * fatt(n-1)\n",
    "\n",
    "# print(fatt(0), fatt(4),fatt(19))"
   ]
  },
  {
   "cell_type": "markdown",
   "metadata": {},
   "source": [
    "Di default, lo stack di ricorsione di Python non può superare i 1000 frame"
   ]
  },
  {
   "cell_type": "code",
   "execution_count": null,
   "metadata": {
    "scrolled": true
   },
   "outputs": [],
   "source": [
    "# Python limita la dimensione dello stack, quindi questa non e' una soluzione valida per numeri grandi\n",
    "fatt(3000)"
   ]
  },
  {
   "cell_type": "markdown",
   "metadata": {},
   "source": [
    "Notiamo che e' importante fermare la ricorsione! Tipicamente questo e' il primo controllo in una funzione ricorsiva, perche' si deve fare prima della chiamata ricorsiva. Altrimenti avrai una ricorsione infinita e sicuramente uno stack overflow. \n",
    "\n",
    "Facciamo un altro esempio: il calcolo dell'ennesimo numero di Fibonacci:"
   ]
  },
  {
   "cell_type": "code",
   "execution_count": null,
   "metadata": {},
   "outputs": [],
   "source": [
    "def fib(n):\n",
    "    if n <= 1: return 1\n",
    "    return (fib(n-1) + fib(n-2))\n",
    "\n",
    "# list(map(fib,range(10)))"
   ]
  },
  {
   "cell_type": "code",
   "execution_count": null,
   "metadata": {},
   "outputs": [],
   "source": [
    "# gia' per n = 36 diventa piuttosto lenta\n",
    "fib(36)"
   ]
  },
  {
   "cell_type": "markdown",
   "metadata": {},
   "source": [
    "La lentezza non e' attribuibile alla profondita' dello stack, ma all'inefficienza della ricorsione. Ricalcoliamo molte volte fib(m)."
   ]
  },
  {
   "attachments": {
    "Fibonacci%20tree.svg": {
     "image/svg+xml": [
      "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"
     ]
    }
   },
   "cell_type": "markdown",
   "metadata": {},
   "source": [
    "![Fibonacci%20tree.svg](attachment:Fibonacci%20tree.svg)"
   ]
  },
  {
   "cell_type": "markdown",
   "metadata": {},
   "source": [
    "fib(1) viene calcolato 5 volte, fib(2) viene calcolato 3 volte,......\n",
    "\n",
    "Possiamo usare un trucco per migliorarne l'efficienza. Riscriviamo la funzione in modo tale che ritorni non solo l'ennesimo numero di Fibonacci, ma anche quello precedente. Cosi' facendo, riusciamo ad avere una sola chiamata ricorsiva. Quindi la nostra funzione fib2(n) ritorna una coppia (p,q) in cui q e' fib(n) e p e' fib(n-1)"
   ]
  },
  {
   "cell_type": "code",
   "execution_count": null,
   "metadata": {},
   "outputs": [],
   "source": [
    "def fib2(n):\n",
    "    if (n <= 0): return (0,1)\n",
    "    rec = fib2(n-1)\n",
    "    return (rec[1],rec[0]+rec[1])   \n",
    "\n",
    "\n",
    "# print(fib2(36))\n",
    "# print(fib2(100))"
   ]
  },
  {
   "cell_type": "markdown",
   "metadata": {},
   "source": [
    "## Ricorsione di coda\n",
    "\n",
    "Un particolare tipo di ricorsione, importante nella programmazione funzionale, e' la **ricorsione di coda**. questa ricorsione e' caratterizzata dal fatto che le chiamate ricorsive sono in **posizione di coda** cioe' le espressione ritornate dalla funzione.\n",
    "Le nostre funzioni `fatt`, `fib` e `fib2` *non sono ricorsive di coda*. \n",
    "Infatti la chiamata ricorsiva in `fatt`, `n * fatt(n-1)`, non e' in posizione di coda, come pure quelle in `fib` e `fib2`.\n",
    "La ricorsione di coda e' molto importante nella programmazione funzionale, perche' puo' essere strasformata in iterazione e quindi non e' necessario allocare record di attivazione per la sua esecuzione.\n",
    "Vediamo come si scrive una funzione ricorsiva di coda per il fattoriale. "
   ]
  },
  {
   "cell_type": "code",
   "execution_count": null,
   "metadata": {},
   "outputs": [],
   "source": [
    "def fatt(n):\n",
    "    def fattRC (n,acc):\n",
    "        if n<=0:return acc\n",
    "        return fattRC(n-1,n*acc)\n",
    "    return fattRC(n,1)\n",
    "\n",
    "print(fatt(6))\n",
    "fatt(3000)"
   ]
  },
  {
   "cell_type": "markdown",
   "metadata": {},
   "source": [
    "Notate l'uso della funzione ausiliaria `fattRC` che prende un parametro sul quale si accumulano i risultati parziali.\n",
    "La chiamata ricorsiva `fattRC(n-1,n*acc)` e' in posizione di coda, poiche' il suo risultato viene restituito dalla funzione `fattRC` per cui `fattRC` *e' ricorsiva di coda*.\n",
    "\n",
    "Purtroppo in Python la ricorsione di coda non viene ottimizzata, per cui e' meglio scrivere direttamente le versioni iterative delle funzioni."
   ]
  },
  {
   "cell_type": "code",
   "execution_count": null,
   "metadata": {},
   "outputs": [],
   "source": [
    "def fattIt(n):\n",
    "    acc = 1\n",
    "    while (n>0):\n",
    "        acc = n*acc\n",
    "        n = n-1\n",
    "    return acc\n",
    "\n",
    "print(fattIt(6))\n",
    "print(fattIt(3000))"
   ]
  },
  {
   "cell_type": "markdown",
   "metadata": {},
   "source": [
    "E se volessi definire `fib2` ricorsiva di coda?"
   ]
  },
  {
   "cell_type": "markdown",
   "metadata": {},
   "source": [
    "## Un altro tipo di dato: namedtuple (simile a struct)\n",
    "Python fornisce, in un package 'collection', la possibilita' di creare tuple con nomi. In realta' crea un oggetto, con un costruttore e dei selettori.\n",
    "\n",
    "L'oggetto che crea e' un sottotipo di tupla. Quindi, si puo' sempre trattarlo come una tupla. In piu', viene fornito un costruttore che si puo' chiamare con parametri posizionali o per keyword. Per accedere ai campi si usano i nomi dei parametri."
   ]
  },
  {
   "cell_type": "code",
   "execution_count": null,
   "metadata": {},
   "outputs": [],
   "source": [
    "from collections import namedtuple\n",
    "Persona = namedtuple('Persona',['nome','eta','qi'])\n",
    "fred = Persona('Fred',20,100)\n",
    "sue = Persona('Susan',18,110)\n",
    "print(fred, sue)\n",
    "print(fred.qi,sue.qi)\n",
    "print(fred[2],sue[2])"
   ]
  },
  {
   "cell_type": "markdown",
   "metadata": {},
   "source": [
    "Valori di default per il costruttore possono essere specificati col parametro `defaults`"
   ]
  },
  {
   "cell_type": "code",
   "execution_count": null,
   "metadata": {},
   "outputs": [],
   "source": [
    "Persona = namedtuple('Persona',['nome','eta','qi'], defaults=['',0,100])\n",
    "jane = Persona('Jane')\n",
    "bob = Persona('Bob',18)\n",
    "print(jane, bob)"
   ]
  },
  {
   "cell_type": "markdown",
   "metadata": {},
   "source": [
    "## Ritorniamo alla ricorsione\n",
    "La vera utilita' della ricorsione si vede quando si devono processare strutture dati che sono inerentamente ricorsive.\n",
    "\n",
    "Una sequenza e' una struttura ricorsiva; se non e' vuota e' un elemento seguito da una sequenza. Usiamo questo fatto per scrivere qualche funzione ricorsiva su sequenze. \n",
    "\n",
    "La seguente funzione calcola la somma delle lunghezze degli elementi in una sequenza"
   ]
  },
  {
   "cell_type": "code",
   "execution_count": null,
   "metadata": {},
   "outputs": [],
   "source": [
    "def sumLen(seq):\n",
    "    # la ricorsione si ferma se la sequenza e' vuota\n",
    "    if not seq: return 0\n",
    "    # altrimenti facciamo la ricorsione\n",
    "    first, *rest = seq\n",
    "    return len(first) + sumLen(rest)\n",
    "\n",
    "print(sumLen(()))\n",
    "print(sumLen(('abc')))\n",
    "print(sumLen('abcde'))\n",
    "print(sumLen(['abc','def','ghi','lmnop']))\n",
    "print(sumLen([(1,2,3),(),(8,),\"Phred\",[(),(),()]]))"
   ]
  },
  {
   "cell_type": "markdown",
   "metadata": {},
   "source": [
    "Come avrete visto nel corso di Algoritmi, un esempio molto comune di struttura ricorsiva e' un **albero** (tree). Un albero e' un insieme di **nodi**. Ogni **nodo** (node) puo' contenere un dato, e in piu' puo' avere uno o piu' sottoalberi, ognuno dei quali e' un albero.  Un nodo senza sottoalberi si chiama **foglia** (leaf). Ogni albero ha un nodo distinto che si chiama **radice** (root). I sottoalberi di un nodo si chiamano **figli** (children).\n",
    "\n",
    "Il diagramma sopra che traccia il calcolo dei numeri di Fibonacci e' un esempio di albero.\n",
    "\n",
    "Un **albero binario** (binary tree) e' uno in cui ogni nodo ha un massimo di due figli.\n",
    "\n",
    "Facciamo un esempio di alberi binari. Definiamo un nodo che ha tre valori: un dato e due sottoalberi."
   ]
  },
  {
   "cell_type": "code",
   "execution_count": null,
   "metadata": {},
   "outputs": [],
   "source": [
    "Tree = namedtuple('Tree',['data','sx','dx'], defaults=[None]*3)\n",
    "\n",
    "tree1 = Tree('root')\n",
    "print(tree1)\n",
    "tree2 = Tree('+',\n",
    "               Tree(7),\n",
    "               Tree(3))\n",
    "print(tree2)"
   ]
  },
  {
   "cell_type": "markdown",
   "metadata": {},
   "source": [
    "La **profondita'** (depth) di un albero e' la distanza massima dalla radice ad una foglia. Come calcolarla? Senza usare la ricorsione e' molto complicato. Con la ricorsione e' invece molto semplice. "
   ]
  },
  {
   "cell_type": "code",
   "execution_count": null,
   "metadata": {},
   "outputs": [],
   "source": [
    "# una funzione utile che ritorna True se il nodo e' una foglia\n",
    "def isLeaf(tree):\n",
    "    return tree.sx == None and tree.dx == None\n",
    "\n",
    "# una funzione per calcolare la profondita'\n",
    "def getDepth(tree):\n",
    "    if isLeaf(tree): return 0\n",
    "    return 1 + max([getDepth(subtree) for subtree in tree[1:] if subtree])\n",
    "\n",
    "# proviamo \n",
    "print(getDepth(tree1))\n",
    "print(getDepth(tree2))"
   ]
  },
  {
   "cell_type": "markdown",
   "metadata": {},
   "source": [
    "Creiamo dei alberi che rappresentano dei calcoli con operatori binari. In questi alberi, ogni nodo rappresenta:\n",
    "\n",
    "1. Un'operazione con due operandi (il dato contiene l'operazione, e i figli gli operandi), oppure\n",
    "1. Un numero (il dato contiene il numero, ed e' una foglia)"
   ]
  },
  {
   "cell_type": "code",
   "execution_count": null,
   "metadata": {},
   "outputs": [],
   "source": [
    "optree1 = Tree('*',\n",
    "              Tree('+',\n",
    "                   Tree(7),\n",
    "                   Tree(4)),\n",
    "              Tree('-',\n",
    "                   Tree(7),\n",
    "                   Tree(4))\n",
    "              )\n",
    "              \n",
    "optree2 = Tree('*',\n",
    "              Tree('*',\n",
    "                   Tree(3),\n",
    "                   Tree(3)),\n",
    "              Tree('-',\n",
    "                   Tree(2),\n",
    "                   Tree(4))\n",
    "              )  \n",
    "\n",
    "optree3 = Tree('+',optree1,optree2)  \n",
    "\n",
    "print(optree1)\n",
    "print(optree2)\n",
    "print(optree3)"
   ]
  },
  {
   "cell_type": "markdown",
   "metadata": {},
   "source": [
    "Scriviamo una funzione per calcolare il valore."
   ]
  },
  {
   "cell_type": "code",
   "execution_count": null,
   "metadata": {},
   "outputs": [],
   "source": [
    "def calcTree(tree):\n",
    "    # Fermiamo la ricorsione\n",
    "    if isLeaf(tree): return tree.data\n",
    "    # valutiamo gli operandi ricorsivamente\n",
    "    leftOp = calcTree(tree.sx)\n",
    "    rightOp = calcTree(tree.dx)\n",
    "    if (tree.data == '+'):\n",
    "        return leftOp + rightOp\n",
    "    if (tree.data == '-'):\n",
    "        return leftOp - rightOp\n",
    "    if (tree.data == '*'):\n",
    "        return leftOp * rightOp\n",
    "\n",
    "print(calcTree(optree1))    \n",
    "print(calcTree(optree2))    \n",
    "print(calcTree(optree3))    "
   ]
  },
  {
   "cell_type": "markdown",
   "metadata": {},
   "source": [
    "Funziona, pero' e' un po' brutto. Non e' elegante la sequenza di 'if', e implica che per aggiungere o modificare le operazioni dobbiamo modificare la funzione. Cerchiamo di essere piu' funzionali.\n",
    "\n",
    "Definiamo un dizionario che mappa da stringhe a funzioni, poi applichiamo la funzione appropriata. Il dizionario sara' un parametro della funzione"
   ]
  },
  {
   "cell_type": "code",
   "execution_count": null,
   "metadata": {},
   "outputs": [],
   "source": [
    "# La funzione nuova\n",
    "def calcTree(tree, ops):\n",
    "    # Fermiamo la ricorsione\n",
    "    if isLeaf(tree): return tree.data\n",
    "    # valutiamo gli operandi ricorsivamente\n",
    "    leftOp = calcTree(tree.sx, ops)\n",
    "    rightOp = calcTree(tree.dx, ops)\n",
    "    return ops[tree.data](leftOp, rightOp)\n",
    "\n",
    "# definiamo il dizionario\n",
    "ops = {'+': lambda x,y: x + y,\n",
    "       '-': lambda x,y: x - y,\n",
    "       '*': lambda x,y: x * y} \n",
    "\n",
    "print(calcTree(optree1, ops))    \n",
    "print(calcTree(optree2, ops))    \n",
    "print(calcTree(optree3, ops))    "
   ]
  },
  {
   "cell_type": "markdown",
   "metadata": {},
   "source": [
    "Per aggiungere un'altra operazione basta aggiungerla al dizionario."
   ]
  },
  {
   "cell_type": "code",
   "execution_count": null,
   "metadata": {},
   "outputs": [],
   "source": [
    "ops['**'] = lambda x,y: x**y\n",
    "\n",
    "optree4 = Tree('**',Tree(3),Tree(4))\n",
    "\n",
    "calcTree(optree4, ops)\n"
   ]
  },
  {
   "cell_type": "markdown",
   "metadata": {},
   "source": [
    "<H2 style=\"color:red\"> 10. Esercizi su funzioni ricorsive </H2>\n",
    "\n",
    "Caricate il file ``10_Esercizi_funz_ric.py`` e provate a fare gli esercizi proposti."
   ]
  }
 ],
 "metadata": {
  "kernelspec": {
   "display_name": "Python 3 (ipykernel)",
   "language": "python",
   "name": "python3"
  },
  "language_info": {
   "codemirror_mode": {
    "name": "ipython",
    "version": 3
   },
   "file_extension": ".py",
   "mimetype": "text/x-python",
   "name": "python",
   "nbconvert_exporter": "python",
   "pygments_lexer": "ipython3",
   "version": "3.11.5"
  }
 },
 "nbformat": 4,
 "nbformat_minor": 2
}
