{
 "cells": [
  {
   "cell_type": "markdown",
   "metadata": {},
   "source": [
    "## List comprehension\n",
    "Python ha una sintassi molto succinta per creare liste a partire da altre sequenze (in generale da `iterable`), che si chiama \"list comprehension\". La sintassi generale e':\n",
    "\n",
    "`[<espressione output> for <variabile> in <iterable> <predicato facoltativo>]`"
   ]
  },
  {
   "cell_type": "code",
   "execution_count": 1,
   "metadata": {},
   "outputs": [
    {
     "data": {
      "text/plain": [
       "[0, 1, 4, 9, 16, 25, 36, 49]"
      ]
     },
     "execution_count": 1,
     "metadata": {},
     "output_type": "execute_result"
    }
   ],
   "source": [
    "[x**2 for x in range(8)]"
   ]
  },
  {
   "cell_type": "markdown",
   "metadata": {},
   "source": [
    "Possiamo usare la clausola  `if` per restringere gli elementi enumerati. In questo caso vengono prodotti solo gli elementi che verificano il predicato dopo `if`."
   ]
  },
  {
   "cell_type": "code",
   "execution_count": 2,
   "metadata": {},
   "outputs": [
    {
     "data": {
      "text/plain": [
       "[1, 9, 25, 49]"
      ]
     },
     "execution_count": 2,
     "metadata": {},
     "output_type": "execute_result"
    }
   ],
   "source": [
    "[x**2 for x in range(8) if x%2==1]"
   ]
  },
  {
   "cell_type": "markdown",
   "metadata": {},
   "source": [
    "Si possono anche avere `for` multipli. Come quando si fanno `for` annidati."
   ]
  },
  {
   "cell_type": "code",
   "execution_count": 3,
   "metadata": {},
   "outputs": [
    {
     "data": {
      "text/plain": [
       "[(0, 0),\n",
       " (0, 1),\n",
       " (0, 2),\n",
       " (0, 3),\n",
       " (0, 4),\n",
       " (1, 0),\n",
       " (1, 1),\n",
       " (1, 2),\n",
       " (1, 3),\n",
       " (1, 4),\n",
       " (2, 0),\n",
       " (2, 1),\n",
       " (2, 2),\n",
       " (2, 3),\n",
       " (2, 4),\n",
       " (3, 0),\n",
       " (3, 1),\n",
       " (3, 2),\n",
       " (3, 3),\n",
       " (3, 4),\n",
       " (4, 0),\n",
       " (4, 1),\n",
       " (4, 2),\n",
       " (4, 3),\n",
       " (4, 4)]"
      ]
     },
     "execution_count": 3,
     "metadata": {},
     "output_type": "execute_result"
    }
   ],
   "source": [
    "[(x,y) for x in range(5) for y in range(5)]"
   ]
  },
  {
   "cell_type": "markdown",
   "metadata": {},
   "source": [
    "Anche in questo caso si puo' usare la clausola  `if` per restringere gli elementi enumerati. "
   ]
  },
  {
   "cell_type": "code",
   "execution_count": 4,
   "metadata": {},
   "outputs": [
    {
     "data": {
      "text/plain": [
       "[0, 0, 2, 0, 3, 6, 0, 4, 8, 12]"
      ]
     },
     "execution_count": 4,
     "metadata": {},
     "output_type": "execute_result"
    }
   ],
   "source": [
    "#print([(x,y) for x in range(5) for y in range(5) if x>y])\n",
    "[x*y for x in range(5) for y in range(5) if x>y]"
   ]
  },
  {
   "cell_type": "markdown",
   "metadata": {},
   "source": [
    "## Iteratori e oggetti iterabili\n",
    "Come in Java un oggetto iterabile significa che e' in grado di fornire un ***iteratore***. Un iteratore e' un oggetto che permette di scandire uno per uno gli elementi dell'iterabile. Abbiamo gia' visto molti oggetti iterabili. Tutte le sequenze sono iterabili. Anche i file sono iterabili, e' per questo che `for line in myFile` funziona.\n",
    "\n",
    "E' importante capire che essere iterabile non implica necessariamente che esistano in memoria tutti gli elementi dell'oggetto iterabile. Per le sequenze e' cosi', pero' ci sono molti controesempi. Anche la funzione `range(n)` e' iterabile **ma non crea una lista di elementi**. Una chiamata a `range` ritorna un oggetto di tipo `range`, che e' iterabile."
   ]
  },
  {
   "cell_type": "code",
   "execution_count": 5,
   "metadata": {},
   "outputs": [
    {
     "name": "stdout",
     "output_type": "stream",
     "text": [
      "range(0, 10) <class 'range'>\n",
      "<zip object at 0x7f0ca3711bc0> <class 'zip'>\n",
      "[0, 1, 2, 3, 4, 5, 6, 7, 8, 9]\n"
     ]
    },
    {
     "data": {
      "text/plain": [
       "[(1, 0), (2, 1), (3, 2)]"
      ]
     },
     "execution_count": 5,
     "metadata": {},
     "output_type": "execute_result"
    }
   ],
   "source": [
    "r = range(10)\n",
    "print(r,type(r))\n",
    "z = zip([1,2,3],range(3))\n",
    "print(z,type(z))\n",
    "print(list(r))\n",
    "list(z)"
   ]
  },
  {
   "cell_type": "markdown",
   "metadata": {},
   "source": [
    "Idem per `zip`, che ritorna un iteratore di tipo `zip`. E' per questo che per vedere gli elementi prodotti da un `range` o  uno `zip` (nell'esempio sopra) abbiamo usato la funzione `list` che produce una lista.\n",
    "\n",
    "In Python 3 ci sono molte funzioni che ritornano iteratori: `enumerate()`, `filter()`, `map()`, `reversed()`, `dict.items()`, e molte altre. Vedremo `filter()`, `map()` e altre in seguito.\n",
    "\n",
    "Perche' un iteratore non ritorna direttamente una lista? Il punto chiave e' che un iteratore non deve necessariamente allocare memoria per tutti gli elementi della struttura su cui si itera contemporaneamente. Questo puo' risparmiare molta memoria. Dato che Python gestisce automaticamente l'allocazione e deallocazione di memoria dinamica, questo riduce anche il tempo d'esecuzione del programma. In generale, questo concetto concetto si chiama ***lazy evaluation*** (*valutazione pigra*). Si ritornano elementi solo quando sono necessari.\n"
   ]
  },
  {
   "cell_type": "markdown",
   "metadata": {},
   "source": [
    "<H2 style=\"color:red\"> 4. e 5. Esercizi su comprehension</H2>\n",
    "\n",
    "- Caricate il file ``5_Esercizi_SeqCompr.py`` e provate a fare gli esercizi proposti.\n",
    "- Fate l'esercizio contenuto in  ``4_Esercizio_Words.py``.\n"
   ]
  },
  {
   "cell_type": "markdown",
   "metadata": {},
   "source": [
    "## Generatori\n",
    "Python 3 fornisce un modo molto semplice di creare un iteratore (**lazy**) che genera gli elementi che vogliamo. Si puo' creare una funzione particolare che si chiama un **generatore**. La distinzione fra una funzione ed un generatore e' che il generatore invece di ritornare un valore con l'istruzione `return`, lo fa con l'istruzione `yield`. Il punto chiave e' che, dopo un `yield`, la chiamata successiva del del generatore *riprende l'esecuzione subito dopo il yield*, mantenendo tutto il suo stato interno. Vediamo un esempio:"
   ]
  },
  {
   "cell_type": "code",
   "execution_count": 1,
   "metadata": {},
   "outputs": [
    {
     "name": "stdout",
     "output_type": "stream",
     "text": [
      "<generator object mio_gen at 0x7f4388302f80>\n",
      "Questo si stampa per primo\n",
      "1\n",
      "Questo si stampa per secondo\n",
      "2\n",
      "Questo si stampa per ultimo\n",
      "3\n"
     ]
    },
    {
     "ename": "StopIteration",
     "evalue": "",
     "output_type": "error",
     "traceback": [
      "\u001b[0;31m---------------------------------------------------------------------------\u001b[0m",
      "\u001b[0;31mStopIteration\u001b[0m                             Traceback (most recent call last)",
      "Cell \u001b[0;32mIn[1], line 24\u001b[0m\n\u001b[1;32m     22\u001b[0m \u001b[38;5;28mprint\u001b[39m(\u001b[38;5;28mnext\u001b[39m(a))\n\u001b[1;32m     23\u001b[0m \u001b[38;5;66;03m# Quando la funzione termina, le chiamate successive sollevano l'eccezione StopIteration.\u001b[39;00m\n\u001b[0;32m---> 24\u001b[0m \u001b[38;5;28;43mnext\u001b[39;49m\u001b[43m(\u001b[49m\u001b[43ma\u001b[49m\u001b[43m)\u001b[49m\n\u001b[1;32m     25\u001b[0m \u001b[38;5;28mnext\u001b[39m(a)\n",
      "\u001b[0;31mStopIteration\u001b[0m: "
     ]
    }
   ],
   "source": [
    "# Una funzione generatore\n",
    "def mio_gen():\n",
    "    n = 1\n",
    "    print('Questo si stampa per primo')\n",
    "    yield n\n",
    "    n += 1\n",
    "    print('Questo si stampa per secondo')\n",
    "    yield n\n",
    "    n += 1\n",
    "    print('Questo si stampa per ultimo')\n",
    "    yield n\n",
    "\n",
    "# creiamo un istanza del generatore \n",
    "a = mio_gen()\n",
    "# se lo stampiamo, vediamo solo un generatore\n",
    "print(a)\n",
    "# Possiamo iterare sugli elementi usando next().\n",
    "print(next(a))\n",
    "# Quando la funzione raggiunge yields, si ferma e il controllo e' traserito al chiamante.\n",
    "# Le variabili locali sono mantenute da una chiamata all'altra.\n",
    "print(next(a))\n",
    "print(next(a))\n",
    "# Quando la funzione termina, le chiamate successive sollevano l'eccezione StopIteration.\n",
    "next(a)\n",
    "next(a)\n"
   ]
  },
  {
   "cell_type": "markdown",
   "metadata": {},
   "source": [
    "Vediamo un altro esempio, un generatore che produce tutti i caratteri ascii che sono stampabili."
   ]
  },
  {
   "cell_type": "code",
   "execution_count": 2,
   "metadata": {},
   "outputs": [
    {
     "name": "stdout",
     "output_type": "stream",
     "text": [
      "<generator object printables at 0x7f43847d0ad0>\n",
      "['   ', '!!!', '\"\"\"', '###', '$$$', '%%%', '&&&', \"'''\", '(((', ')))', '***', '+++', ',,,', '---', '...', '///', '000', '111', '222', '333', '444', '555', '666', '777', '888', '999', ':::', ';;;', '<<<', '===', '>>>', '???', '@@@', 'AAA', 'BBB', 'CCC', 'DDD', 'EEE', 'FFF', 'GGG', 'HHH', 'III', 'JJJ', 'KKK', 'LLL', 'MMM', 'NNN', 'OOO', 'PPP', 'QQQ', 'RRR', 'SSS', 'TTT', 'UUU', 'VVV', 'WWW', 'XXX', 'YYY', 'ZZZ', '[[[', '\\\\\\\\\\\\', ']]]', '^^^', '___', '```', 'aaa', 'bbb', 'ccc', 'ddd', 'eee', 'fff', 'ggg', 'hhh', 'iii', 'jjj', 'kkk', 'lll', 'mmm', 'nnn', 'ooo', 'ppp', 'qqq', 'rrr', 'sss', 'ttt', 'uuu', 'vvv', 'www', 'xxx', 'yyy', 'zzz', '{{{', '|||', '}}}', '~~~']\n",
      "joined: \n",
      "joined:  !\"#$%&'()*+,-./0123456789:;<=>?@ABCDEFGHIJKLMNOPQRSTUVWXYZ[\\]^_`abcdefghijklmnopqrstuvwxyz{|}~\n"
     ]
    }
   ],
   "source": [
    "# definiamo il generatore\n",
    "def printables():\n",
    "    for i in range(128):\n",
    "        if chr(i).isprintable():\n",
    "            yield chr(i)\n",
    "# creiamo un istanza del generatore            \n",
    "pr = printables()\n",
    "\n",
    "\n",
    "\n",
    "# se lo stampiamo, vediamo solo un generatore, non c'e' nessuna lista o sequenza\n",
    "\n",
    "print(pr)\n",
    "\n",
    "# lo posso usare in una list comprehension (che quindi chiamera' next ripetutamente fino ad esaurire gli elementi)\n",
    "\n",
    "b = [c*3 for c in pr ]  # potete provare a selezionare fra 2 caratteri, ad esempio if c>='!' and c<'0'\n",
    "\n",
    "print( b)\n",
    "\n",
    "# il metodo 'join' prende un iterabile, e crea una stringa\n",
    "\n",
    "print('joined:',''.join(pr))\n",
    "\n",
    "# perche' non stampa niente? Un generatore puo' essere usato una volta soltanto. Se voglio iterare di nuovo, devo creare\n",
    "# un'altra istanza\n",
    "\n",
    "pr = printables()\n",
    "print('joined:',''.join(pr))\n"
   ]
  },
  {
   "cell_type": "markdown",
   "metadata": {},
   "source": [
    "**Notiamo che:**\n",
    "1. E' definito come una funzione normale; Python sa che e' un generatore perche' contiene `yield`\n",
    "1. Dietro le quinte Python ha fatto tutto il necessario perche' possa essere usato come un iterabile\n",
    "1. Se applichi un iteratore lazy ad altri iteratori lazy, il risultato e' sempre lazy"
   ]
  },
  {
   "cell_type": "code",
   "execution_count": 3,
   "metadata": {},
   "outputs": [
    {
     "name": "stdout",
     "output_type": "stream",
     "text": [
      "<zip object at 0x7f43847830c0>\n"
     ]
    },
    {
     "name": "stdin",
     "output_type": "stream",
     "text": [
      "start? a\n"
     ]
    },
    {
     "name": "stdout",
     "output_type": "stream",
     "text": [
      "talkingRange: 0\n",
      "talkingRange: 3\n",
      "iterazione: (0, 3)\n"
     ]
    },
    {
     "name": "stdin",
     "output_type": "stream",
     "text": [
      "next? 0\n"
     ]
    },
    {
     "name": "stdout",
     "output_type": "stream",
     "text": [
      "talkingRange: 1\n",
      "talkingRange: 5\n",
      "iterazione: (1, 5)\n"
     ]
    },
    {
     "name": "stdin",
     "output_type": "stream",
     "text": [
      "next? m\n"
     ]
    },
    {
     "name": "stdout",
     "output_type": "stream",
     "text": [
      "talkingRange: 2\n",
      "talkingRange: 7\n",
      "iterazione: (2, 7)\n"
     ]
    },
    {
     "name": "stdin",
     "output_type": "stream",
     "text": [
      "next? 90\n"
     ]
    }
   ],
   "source": [
    "def talkingRange(*args):\n",
    "    for i in range(*args):\n",
    "        print(f'talkingRange: {str(i)}')\n",
    "        yield i\n",
    "\n",
    "# range(3) => generatore di 0, 1, 2\n",
    "# range(3,8,2) => generatore di 3, 5, 7 \n",
    "\n",
    "z = zip(talkingRange(3),talkingRange(3,8,2)) \n",
    "print(z)\n",
    "# z e' stato creato, ma nessun elemento di talking range e' stato chiamato\n",
    "# z e' in generatore di (0,3), (1,5), (2,7)\n",
    "# per produrre gli elementi usiamo il costrutto for e li stampiamo\n",
    "\n",
    "input('start?')\n",
    "for p in z:\n",
    "    print(f\"iterazione: {str(p)}\")\n",
    "    input('next?')\n",
    "    \n",
    "    "
   ]
  },
  {
   "cell_type": "markdown",
   "metadata": {},
   "source": [
    "## Generator comprehension\n",
    "Abbiamo gia' visto l'utilita' di **list comprehension**, che pero' ha lo svantaggio di creare una lista, cioe' non c'e' **lazy evaluation**, ma tutti gli elementi sono creati in memoria.\n",
    "\n",
    "Python 3 fornisce un altro tipo di comprehension, un generator comprehension. La sintassi e' la stessa della list comprehension, eccetto che e' racchiusa da parentesi tonde invece che quadre. E invece di una lista, ritorna un generatore. "
   ]
  },
  {
   "cell_type": "code",
   "execution_count": 4,
   "metadata": {
    "scrolled": true
   },
   "outputs": [
    {
     "name": "stdout",
     "output_type": "stream",
     "text": [
      "[0, 1, 4, 9, 16, 25, 36, 49]\n",
      "<generator object <genexpr> at 0x7f4384773d30>\n",
      "0\n",
      "1\n",
      "4\n",
      "9\n",
      "16\n",
      "25\n",
      "36\n",
      "49\n"
     ]
    }
   ],
   "source": [
    "# Cambiando le parentesi alla list comprehension che abbiamo visto:\n",
    "print([x**2 for x in range(8)])\n",
    "\n",
    "print((x**2 for x in range(8)))\n",
    "\n",
    "for x in (x**2 for x in range(8)):\n",
    "    print(x)\n",
    "\n"
   ]
  },
  {
   "cell_type": "markdown",
   "metadata": {},
   "source": [
    "<H2 style=\"color:red\"> 6. Esercizi su generatori</H2>\n",
    "\n",
    "Caricate il file ``6_Esercizi_Generatori.py`` e provate a fare gli esercizi proposti."
   ]
  }
 ],
 "metadata": {
  "kernelspec": {
   "display_name": "Python 3 (ipykernel)",
   "language": "python",
   "name": "python3"
  },
  "language_info": {
   "codemirror_mode": {
    "name": "ipython",
    "version": 3
   },
   "file_extension": ".py",
   "mimetype": "text/x-python",
   "name": "python",
   "nbconvert_exporter": "python",
   "pygments_lexer": "ipython3",
   "version": "3.12.1"
  }
 },
 "nbformat": 4,
 "nbformat_minor": 4
}
