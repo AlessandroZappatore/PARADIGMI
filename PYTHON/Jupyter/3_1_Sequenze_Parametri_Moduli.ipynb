{
 "cells": [
  {
   "cell_type": "markdown",
   "metadata": {},
   "source": [
    "<H2> Valutazione Lazy</H2>"
   ]
  },
  {
   "cell_type": "markdown",
   "metadata": {},
   "source": [
    "E' una strategia per ottimizzare il codice.\n",
    "\n",
    "In Python se scrivete l'espressione `sum = 1 + 2` e la valutate ottenete l'assegnamento a `sum` di `3`. La valutazione viene fatta immediatamente, e si parla di **Valutazione \"Eager\"**.\n",
    "\n",
    "La **Valutazione \"Lazy\"** non valuta immediatamente l'espressione ma lo fa solo quando e' necessario il risultato, in questo caso quando usate la variabile `sum`.\n",
    "\n",
    "In Python ci sono funzioni built-in che, quando applicate, non restituiscono un valore, ma producono il loro risultato se questo solo quando questo e' necessario ad altre computazioni. Oggi ne vedremo alcune. Poi vedremo anche come Python permette al programmatore di definire le sue funzioni Lazy.\n"
   ]
  },
  {
   "cell_type": "markdown",
   "metadata": {},
   "source": [
    "<H2> Funzioni che creano sequenze (iterabili) </H2>"
   ]
  },
  {
   "cell_type": "markdown",
   "metadata": {},
   "source": [
    "### `range()`\n",
    "\n",
    "La funzione `range([inizio],fine,[passo])` crea una sequenza di numeri. In Python 2, ritornava una lista. In Python 3, ritorna un oggetto di tipo `range`. E' un esempio di un `iterable`, dei quali parleremo piu' avanti. Per vedere gli elementi di un range, lo convertiamo in una lista, usando `list`."
   ]
  },
  {
   "cell_type": "code",
   "execution_count": 1,
   "metadata": {},
   "outputs": [
    {
     "name": "stdout",
     "output_type": "stream",
     "text": [
      "[]\n",
      "(1, 2, 3, 4, 5, 6)\n",
      "[1, 3, 5]\n",
      "[]\n",
      "[0, 2, 4, 6]\n",
      "[10, 9, 8, 7, 6, 5, 4, 3, 2, 1]\n",
      "[0, 1, 2, 3, 4, 5, 6, 7, 8, 9]\n"
     ]
    }
   ],
   "source": [
    "print(list())\n",
    "print(tuple(range(1,7)))\n",
    "print(list(range(1,7,2)))\n",
    "print(list(range(7,2)))\n",
    "print(list(range(0,7,2)))\n",
    "print(list(range(10,0,-1)))\n",
    "print(list(range(10)))"
   ]
  },
  {
   "cell_type": "markdown",
   "metadata": {},
   "source": [
    "Un tipico loop di Java:\n",
    "\n",
    "```\n",
    "for (int i = 0; i < 5; i++) {\n",
    "  System.out.println(i);\n",
    "}\n",
    "```\n",
    "\n",
    "Si puo' fare in Python utilizzando `range`:\n",
    "\n",
    "```\n",
    "for i in range(5):\n",
    "    print(i)\n",
    "```    "
   ]
  },
  {
   "cell_type": "markdown",
   "metadata": {},
   "source": [
    "### enumerate\n",
    "Spesso, in un loop che itera su una sequenza, abbiamo bisogno anche dell'indice dell'elemento. Questo si puo' fare o usando un contatore esplicito o in maniera piu' idiomatica usando la funzione `enumerate` che costruisce un insieme di coppie *indice*,*elemento* (si puo' anche specificare un parametro con keyword `start` per alterare il valore del contatore):"
   ]
  },
  {
   "cell_type": "code",
   "execution_count": 2,
   "metadata": {},
   "outputs": [
    {
     "name": "stdout",
     "output_type": "stream",
     "text": [
      "Parola 0 e' The\n",
      "Parola 1 e' quick\n",
      "Parola 2 e' brown\n",
      "Parola 3 e' fox\n"
     ]
    }
   ],
   "source": [
    "wordList = ['The','quick','brown','fox']\n",
    "ix = 0\n",
    "for x in wordList:\n",
    "    print('Parola',ix,\"e'\",x)\n",
    "    ix += 1"
   ]
  },
  {
   "cell_type": "code",
   "execution_count": 3,
   "metadata": {},
   "outputs": [
    {
     "name": "stdout",
     "output_type": "stream",
     "text": [
      "Parola 0 e' The\n",
      "Parola 1 e' quick\n",
      "Parola 2 e' brown\n",
      "Parola 3 e' fox\n"
     ]
    }
   ],
   "source": [
    "# questo e' piu' elegante:\n",
    "#list(enumerate(wordList))\n",
    "for ix,x in enumerate(wordList):\n",
    "    print('Parola',ix,\"e'\",x)\n",
    "\n",
    "# list(enumerate(wordList) )  "
   ]
  },
  {
   "cell_type": "code",
   "execution_count": 4,
   "metadata": {},
   "outputs": [
    {
     "name": "stdout",
     "output_type": "stream",
     "text": [
      "Parola 2 e' The\n",
      "Parola 3 e' quick\n",
      "Parola 4 e' brown\n",
      "Parola 5 e' fox\n"
     ]
    }
   ],
   "source": [
    "# iniziamo la numerazione da 2 invece di 0 notate il parametro per parola chiave (lo vediamo fra poco!):\n",
    "for ix,x in enumerate(wordList, start=2):\n",
    "    print('Parola',ix,\"e'\",x)"
   ]
  },
  {
   "cell_type": "markdown",
   "metadata": {},
   "source": [
    "### zip\n",
    "La funzione `zip` combina gli elementi di diverse sequenze in una sequenza di tuple. Ha un numero variabile di parameteri. Un esempio:"
   ]
  },
  {
   "cell_type": "code",
   "execution_count": 7,
   "metadata": {},
   "outputs": [
    {
     "name": "stdout",
     "output_type": "stream",
     "text": [
      "[(1, 'a', 'alpha'), (2, 'b', 'beta'), (3, 'c', 'gamma'), (4, 'd', 'delta'), (5, 'e', 'epsilon')]\n"
     ]
    }
   ],
   "source": [
    "seq1 = [1,2,3,4,5,6,7]\n",
    "seq2 = 'abcde'\n",
    "seq3 = ('alpha','beta','gamma','delta','epsilon')\n",
    "x = zip(seq1,seq2,seq3)\n",
    "x\n",
    "list(x)\n",
    "print(list(zip(seq1,seq2,seq3)))"
   ]
  },
  {
   "cell_type": "markdown",
   "metadata": {},
   "source": [
    "vediamo che la funzione `enumerate` e' un caso particolare di `zip`"
   ]
  },
  {
   "cell_type": "code",
   "execution_count": null,
   "metadata": {},
   "outputs": [],
   "source": [
    "# Definite la funzione enumerate usando range e zip\n",
    "# enum(seq2) => [(0, 'a'), (1, 'b'), (2, 'c'), (3, 'd'), (4, 'e')]\n",
    "# per vedere gli elementi fate come per la funzione range!"
   ]
  },
  {
   "cell_type": "markdown",
   "metadata": {},
   "source": [
    "## Specifica dei parametri delle funzioni\n",
    "\n",
    "Visto che Python non e' tipato staticamente, anche nella definizione di una funzione (come nella dichiarazione di un variabile) non c'e' nessuna informazione sui tipi, ne' per i parametri ne' per il valore di ritorno.\n",
    "\n",
    "Python offre molta flessibilita' nel passare gli argomenti.\n",
    "\n",
    "`def fn(a,b,c)`\n",
    "\n",
    "fn ha 3 parametri, possono essere passati o posizionalmente o con keyword"
   ]
  },
  {
   "cell_type": "code",
   "execution_count": 11,
   "metadata": {
    "tags": [
     "remove_cell"
    ]
   },
   "outputs": [
    {
     "name": "stdout",
     "output_type": "stream",
     "text": [
      "1 2 3\n",
      "1 3 8\n",
      "1 3 8\n"
     ]
    }
   ],
   "source": [
    "def fn(a,b,c):\n",
    "    print(a,b,c)\n",
    "    \n",
    "# # Le seguenti chiamate sono corrette    \n",
    "fn(1,2,3)\n",
    "fn(1,c=8,b=3)\n",
    "fn(c=8,b=3,a=1)\n",
    "\n",
    "# Le seguenti chiamate causano errori; scommentateli uno per uno per vedere l'errore\n",
    "\n",
    "# fn(1,2)\n",
    "# fn(1,c=8)\n",
    "# fn(1,2,3,b=2)"
   ]
  },
  {
   "cell_type": "markdown",
   "metadata": {},
   "source": [
    "Si puo' definire un valore di default per un parametro. Tutti i parametri che hanno un valore di default devono essere **dopo** i parametri senza default."
   ]
  },
  {
   "cell_type": "code",
   "execution_count": 16,
   "metadata": {},
   "outputs": [
    {
     "name": "stdout",
     "output_type": "stream",
     "text": [
      "1 2 3\n",
      "1 3 8\n",
      "1 3 8\n",
      "1 2 5\n",
      "8 3 5\n"
     ]
    }
   ],
   "source": [
    "def fn(a,b=3,c=5):\n",
    "    print(a,b,c)\n",
    "    \n",
    "fn(1,2,3)\n",
    "fn(1,c=8,b=3)\n",
    "fn(c=8,b=3,a=1)    \n",
    "\n",
    "fn(1,2)\n",
    "fn(8)"
   ]
  },
  {
   "cell_type": "markdown",
   "metadata": {},
   "source": [
    "Se gli argomenti che volete passare ad una funzione sono `iterable`, li potete passare come argomenti posizionali usando l'operatore **`*`**. In questo modo potete avere funzioni con un numero variabile di parametri."
   ]
  },
  {
   "cell_type": "code",
   "execution_count": 17,
   "metadata": {},
   "outputs": [
    {
     "name": "stdout",
     "output_type": "stream",
     "text": [
      "0 1 2\n",
      "[0, 1, 2] 3 5\n"
     ]
    }
   ],
   "source": [
    "fn(*range(3))\n",
    "fn(list(range(3)))"
   ]
  },
  {
   "cell_type": "markdown",
   "metadata": {},
   "source": [
    "Se gli argomenti che volete passare ad una funzione sono in un `dict`, li potete passare come argomenti keyword usando l'operatore <b>`**`</b>"
   ]
  },
  {
   "cell_type": "code",
   "execution_count": 18,
   "metadata": {},
   "outputs": [
    {
     "name": "stdout",
     "output_type": "stream",
     "text": [
      "0 1 2\n",
      "0 1 2\n"
     ]
    }
   ],
   "source": [
    "coppie = {'b':1, 'c':2, 'a':0}\n",
    "fn(**coppie)\n",
    "fn(*range(3))"
   ]
  },
  {
   "cell_type": "markdown",
   "metadata": {},
   "source": [
    "Quando si definisce una funzione, si possono raccogliere argomenti posizionali aggiuntivi in una tupla usando l'operatore **`*`**. Questo e' simile ai metodi variadici di Java."
   ]
  },
  {
   "cell_type": "code",
   "execution_count": null,
   "metadata": {},
   "outputs": [],
   "source": [
    "def manyArgs(a,b,*altriPos):\n",
    "    print(a,b,altriPos)\n",
    "    \n",
    "manyArgs(1,2,3,4,5)    "
   ]
  },
  {
   "cell_type": "markdown",
   "metadata": {},
   "source": [
    "Quando si definisce una funzione, si possono raccogliere argomenti keyword aggiuntivi in un `dict` usando l'operatore <b>`**`</b> "
   ]
  },
  {
   "cell_type": "code",
   "execution_count": null,
   "metadata": {},
   "outputs": [],
   "source": [
    "def extraKeys(a,b,**altriKeys):\n",
    "    print(a,b,altriKeys)\n",
    "    \n",
    "extraKeys(1,b=2,c=3,xx=4)    "
   ]
  },
  {
   "cell_type": "markdown",
   "metadata": {},
   "source": [
    "<H2 style=\"color:red\"> 3. Esercizi</H2>\n",
    "\n",
    "Caricate il file ``3_Esercizi_SD.py`` e fate i due esercizi proposti."
   ]
  },
  {
   "cell_type": "markdown",
   "metadata": {},
   "source": [
    "## Moduli\n",
    "In Python, ogni file importato crea un nuovo namespace.\n",
    "\n",
    "`import <nomeDelModulo>`\n",
    "\n",
    "da' accesso al contenuto del modulo. Deve essere acceduto attraverso il nome del modulo. Proviamo con un modulo dalla libreria standard di Python, `math`"
   ]
  },
  {
   "cell_type": "code",
   "execution_count": null,
   "metadata": {},
   "outputs": [],
   "source": [
    "import math\n",
    "print(math.sqrt(8))\n",
    "print(math.pi)"
   ]
  },
  {
   "cell_type": "markdown",
   "metadata": {},
   "source": [
    "Si puo' dare un alias al modulo importato\n",
    "\n",
    "`import <lib> as <alias>`\n",
    "\n",
    "Nel seguente esempio, importo il modulo `random`, ma se non voglio digitare sempre `random` prima di ogni funzione posso sccegliere un alias piu' corto"
   ]
  },
  {
   "cell_type": "code",
   "execution_count": null,
   "metadata": {},
   "outputs": [],
   "source": [
    "import random as ran\n",
    "ls=[]\n",
    "for x in range(10):\n",
    "    ls.append(('testa','croce')[ran.randint(0,1)])\n",
    "ls    \n",
    "    "
   ]
  },
  {
   "cell_type": "markdown",
   "metadata": {},
   "source": [
    "Posso importare degli oggetti direttamente nel namespace corrente con la sintassi:\n",
    "\n",
    "`from <module> import <name>`\n",
    "\n",
    "`<name>` puo' anche essere una serie di nomi separati da virgola.\n",
    "\n",
    "Si puo' importare tutto il contenuto di un modulo usando **`*`** per `<name>`\n",
    "\n",
    "Nel seguente esempio, importo la funzione `math.sqrt` nel namespace corrente. Cosi' non devo usare il prefisso `math.`"
   ]
  },
  {
   "cell_type": "code",
   "execution_count": null,
   "metadata": {},
   "outputs": [],
   "source": [
    "from math import sqrt\n",
    "sqrt(7)"
   ]
  },
  {
   "cell_type": "code",
   "execution_count": null,
   "metadata": {},
   "outputs": [],
   "source": [
    "# la radice quadrata di un numero negativo da' errore\n",
    "sqrt(-1)"
   ]
  },
  {
   "cell_type": "markdown",
   "metadata": {},
   "source": [
    "C'e' un modulo `cmath`, che definisce delle funzioni per l'aritmetica complessa. Esso ha una funzione `sqrt` che da' un risultato per `sqrt(-1)`"
   ]
  },
  {
   "cell_type": "code",
   "execution_count": null,
   "metadata": {},
   "outputs": [],
   "source": [
    "import cmath\n",
    "cmath.sqrt(-1)"
   ]
  },
  {
   "cell_type": "markdown",
   "metadata": {},
   "source": [
    "Posso anche importare la funzione `cmath.sqrt` nel namespace corrente. Sovrascrivera' quella di `math`. Per questo si deve stare attenti a fare questo tipo di `import` (e' proprio per evitare questo tipo di conflitto che esistono i namespace)"
   ]
  },
  {
   "cell_type": "code",
   "execution_count": null,
   "metadata": {},
   "outputs": [],
   "source": [
    "from cmath import sqrt\n",
    "sqrt(-1)\n",
    "\n",
    "# posso sempre accedere a quella di 'math' usando il namespace\n",
    "math.sqrt(-1)"
   ]
  },
  {
   "cell_type": "markdown",
   "metadata": {},
   "source": [
    "## Qualche Modulo Utile\n",
    "\n",
    "Vedete https://docs.python.org/3/library/index.html per documentazione completa della Standard Library\n",
    "\n",
    "### Modulo `os`\n",
    "Informazioni dipendenti dal sistema operativo"
   ]
  },
  {
   "cell_type": "code",
   "execution_count": null,
   "metadata": {},
   "outputs": [],
   "source": [
    "import os\n",
    "# nome del sistema operativo\n",
    "print('os:',os.name)\n",
    "# directory corrente\n",
    "print('cwd:', os.getcwd())\n",
    "# lista del contenuto di una directory\n",
    "print(os.listdir(os.getcwd()))"
   ]
  },
  {
   "cell_type": "markdown",
   "metadata": {},
   "source": [
    "### Modulo `random`\n",
    "Generatori di numeri pseudo-casuali"
   ]
  },
  {
   "cell_type": "code",
   "execution_count": null,
   "metadata": {},
   "outputs": [],
   "source": [
    "import random\n",
    "# intero random in range ([start],stop,[step]) default per start e' 0\n",
    "# step e' la differenza fra 2 numeri consecutivi con default 1\n",
    "\n",
    "print([random.randrange(5,12,2), random.randrange(5,12,2),random.randrange(5,12,2)])\n",
    "\n",
    "# mescolare una sequenza (modifica la sequenza)\n",
    "a = list(range(10))\n",
    "random.shuffle(a)\n",
    "print(a)\n",
    "\n",
    "# con seed si possono avere risultati deterministici (utile per debugging)\n",
    "random.seed(44332)\n",
    "print([random.randrange(5,20,2), random.randrange(5,20,2),random.randrange(5,12,2),random.randrange(5,12,2),random.randrange(5,70,2)])\n",
    "random.seed(44332)\n",
    "print([random.randrange(5,20,2), random.randrange(5,20,2),random.randrange(5,12,2),random.randrange(5,12,2),random.randrange(5,70,2)])\n",
    "\n",
    "print([random.randrange(5,20,2), random.randrange(5,20,2),random.randrange(5,12,2),random.randrange(5,12,2),random.randrange(5,70,2)])\n"
   ]
  },
  {
   "cell_type": "markdown",
   "metadata": {},
   "source": [
    "### Modulo `re` - espressioni regolari\n",
    "### Modulo `files, os.path,pathlib` - per gestire path e file\n",
    "### Modulo `timeit` - per misurare tempi di esecuzione\n",
    "### Modulo `datetime` - per date e ore"
   ]
  },
  {
   "cell_type": "markdown",
   "metadata": {},
   "source": [
    "## Eccezioni e lettura da file \n",
    "Le eccezioni (`Exception`) sono un modo di gestire errori. Le vedremo in dettaglio in Java. Ora ne anticipiamo le principali caratteristiche.\n",
    "- Un'eccezione interrompe il flusso normale del programma. \n",
    "- Quando succede un'eccezzione, la macchina virtuale di Python cerca un possibile ***handler*** (cioe' manipolatore di eccezioni) per gestirla. \n",
    "- Se succede un'eccezione e non c'e' nessun handler, il programma esce con un errore.\n",
    "\n",
    "Quando si esegue una porzione di codice che potrebbe causare un'eccezione e si vuole fornire un handler lo si fa mettendo il codice nel costrutto `try` e `except`:"
   ]
  },
  {
   "cell_type": "code",
   "execution_count": null,
   "metadata": {},
   "outputs": [],
   "source": [
    "# Qui, la divisione per 0 solleva un'eccezione che causa  \n",
    "# l'interruzione dell'esecuzione del programma\n",
    "def div(n,d):\n",
    "    return n/d\n",
    "\n",
    "print(div(2,0))\n",
    "print(3)"
   ]
  },
  {
   "cell_type": "markdown",
   "metadata": {},
   "source": [
    "Nel costrutto si `try` puo' specificare `finally` che viene eseguito sia che il codice nel blocco `try` provochi un'eccezione che non la provochi. Consideriamo la seguente lettura da file. (Notate che anche i files (e le directory) sono sequenza di linee (di files) per cui si puo' iterare.)\n"
   ]
  },
  {
   "cell_type": "code",
   "execution_count": null,
   "metadata": {},
   "outputs": [],
   "source": [
    "numeri = []\n",
    "dati = open(\"WordSquare.txt\",\"r\")\n",
    "\n",
    "try:    \n",
    "    for line in dati:\n",
    "#         numeri.append(float(line))\n",
    "        print(line)\n",
    "except ValueError:\n",
    "    print(\"Errore!!!\")\n",
    "finally:\n",
    "    dati.close()\n",
    "\n",
    "print(dati.closed)"
   ]
  },
  {
   "cell_type": "markdown",
   "metadata": {},
   "source": [
    "**NB** Valgono le considerazioni che abbiamo fatto per la gestion delle eccezioni in Java. Cioe' se non sai cosa fare non le catturare!"
   ]
  },
  {
   "cell_type": "markdown",
   "metadata": {},
   "source": [
    "## L'istruzione `With`\n",
    "\n",
    "Il pattern precedente cioe' aggiungere una azione che deve essere fatta indipendentemente dal fatto che un certo blocco di istruzioni provochi o meno un'eccezione e' realizzato dall' inziare il blocco che potrebbe causare l'eccezione con l'istruzione `with`. L'espressione nel `with` deve supportare operazioni di `__enter__` and `__exit__` nel caso dei files questo corrisponde a aprire e chiudere i file. Per esempio, leggere un file come nel seguente codice garantisce che il file venga chiuso quando si esce dal `with`. \n",
    "\n",
    "Il metodo `rstrip()` rimuove i caratteri alla fine della stringa, il default da rimuovere e' il bianco."
   ]
  },
  {
   "cell_type": "code",
   "execution_count": 1,
   "metadata": {},
   "outputs": [
    {
     "name": "stdout",
     "output_type": "stream",
     "text": [
      "File doesn't exist\n"
     ]
    },
    {
     "ename": "NameError",
     "evalue": "name 'myFile' is not defined",
     "output_type": "error",
     "traceback": [
      "\u001b[0;31m---------------------------------------------------------------------------\u001b[0m",
      "\u001b[0;31mNameError\u001b[0m                                 Traceback (most recent call last)",
      "Cell \u001b[0;32mIn[1], line 11\u001b[0m\n\u001b[1;32m      8\u001b[0m \u001b[38;5;28;01mexcept\u001b[39;00m \u001b[38;5;167;01mFileNotFoundError\u001b[39;00m:\n\u001b[1;32m      9\u001b[0m     \u001b[38;5;28mprint\u001b[39m(\u001b[38;5;124m\"\u001b[39m\u001b[38;5;124mFile doesn\u001b[39m\u001b[38;5;124m'\u001b[39m\u001b[38;5;124mt exist\u001b[39m\u001b[38;5;124m\"\u001b[39m)\n\u001b[0;32m---> 11\u001b[0m \u001b[38;5;28mprint\u001b[39m(\u001b[43mmyFile\u001b[49m\u001b[38;5;241m.\u001b[39mclosed)\n",
      "\u001b[0;31mNameError\u001b[0m: name 'myFile' is not defined"
     ]
    }
   ],
   "source": [
    "numLines = 0\n",
    "try:\n",
    "    with open('WordSquare.txt','r') as myFile:\n",
    "        for line in myFile:\n",
    "            line = line.rstrip()\n",
    "            numLines += 1\n",
    "    print(numLines)\n",
    "except FileNotFoundError:\n",
    "    print(\"File doesn't exist\")\n",
    "\n",
    "print(myFile.closed)"
   ]
  },
  {
   "cell_type": "markdown",
   "metadata": {},
   "source": [
    "## Listare i files in una directory\n",
    "\n"
   ]
  },
  {
   "cell_type": "markdown",
   "metadata": {},
   "source": [
    "La funzione `walk` del modulo `os` data una directory ritorna una tripla di valori (cammino_corrente, directories nel cammino_corrente, files nel cammino_corrente)."
   ]
  },
  {
   "cell_type": "code",
   "execution_count": 2,
   "metadata": {},
   "outputs": [
    {
     "name": "stdout",
     "output_type": "stream",
     "text": [
      "6_Map_Filter_Ricorsione.ipynb\n",
      "5_Funzioni.ipynb\n",
      "4_ComprehensionGeneratori.ipynb\n",
      "3_1_Sequenze_Parametri_Moduli.ipynb\n",
      "3_StruttureDati.ipynb\n",
      "2_Intro_Python.ipynb\n",
      "1_Introduzione.ipynb\n",
      "1_Introduzione-checkpoint.ipynb\n",
      "2_Intro_Python-checkpoint.ipynb\n",
      "4_ComprehensionGeneratori-checkpoint.ipynb\n",
      "3_StruttureDati-checkpoint.ipynb\n",
      "5_Funzioni-checkpoint.ipynb\n",
      "6_Map_Filter_Ricorsione-checkpoint.ipynb\n",
      "3_1_Sequenze_Parametri_Moduli-checkpoint.ipynb\n"
     ]
    }
   ],
   "source": [
    "import os\n",
    "for path,di,files in os.walk('.'):\n",
    "    for file in files:\n",
    "      print(file) \n",
    " "
   ]
  }
 ],
 "metadata": {
  "kernelspec": {
   "display_name": "Python 3 (ipykernel)",
   "language": "python",
   "name": "python3"
  },
  "language_info": {
   "codemirror_mode": {
    "name": "ipython",
    "version": 3
   },
   "file_extension": ".py",
   "mimetype": "text/x-python",
   "name": "python",
   "nbconvert_exporter": "python",
   "pygments_lexer": "ipython3",
   "version": "3.12.1"
  }
 },
 "nbformat": 4,
 "nbformat_minor": 4
}
